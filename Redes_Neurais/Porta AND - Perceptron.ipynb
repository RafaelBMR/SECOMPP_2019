{
 "cells": [
  {
   "cell_type": "markdown",
   "metadata": {},
   "source": [
    "# Implementação de um perceptron (neurônio artificial) e treinamento para resolver a porta lógica AND"
   ]
  },
  {
   "cell_type": "code",
   "execution_count": 1,
   "metadata": {},
   "outputs": [],
   "source": [
    "import numpy as np\n",
    "import matplotlib.pyplot as plt"
   ]
  },
  {
   "cell_type": "markdown",
   "metadata": {},
   "source": [
    "# Função não-linear: sigmoide"
   ]
  },
  {
   "cell_type": "code",
   "execution_count": 2,
   "metadata": {},
   "outputs": [],
   "source": [
    "def sigmoide(a):\n",
    "    return 1 / (1 + np.exp(-a))"
   ]
  },
  {
   "cell_type": "code",
   "execution_count": 3,
   "metadata": {},
   "outputs": [
    {
     "name": "stdout",
     "output_type": "stream",
     "text": [
      "-100  ->  3.7200759760208356e-44\n",
      "-10  ->  4.5397868702434395e-05\n",
      "-1  ->  0.2689414213699951\n",
      "-0.1  ->  0.47502081252106\n",
      "0  ->  0.5\n",
      "0.1  ->  0.52497918747894\n",
      "1  ->  0.7310585786300049\n",
      "10  ->  0.9999546021312976\n",
      "100  ->  1.0\n"
     ]
    }
   ],
   "source": [
    "for i in [-100, -10, -1, -0.1, 0, 0.1, 1, 10, 100]:\n",
    "    print(i, \" -> \", sigmoide(i))"
   ]
  },
  {
   "cell_type": "code",
   "execution_count": 4,
   "metadata": {},
   "outputs": [
    {
     "data": {
      "text/plain": [
       "array([3.72007598e-44, 4.53978687e-05, 2.68941421e-01, 4.75020813e-01,\n",
       "       5.00000000e-01, 5.24979187e-01, 7.31058579e-01, 9.99954602e-01,\n",
       "       1.00000000e+00])"
      ]
     },
     "execution_count": 4,
     "metadata": {},
     "output_type": "execute_result"
    }
   ],
   "source": [
    "# Esta função também pode receber vetores (e matrizes, etc.)\n",
    "sigmoide(np.array([-100, -10, -1, -0.1, 0, 0.1, 1, 10, 100]))"
   ]
  },
  {
   "cell_type": "markdown",
   "metadata": {},
   "source": [
    "## No gráfico abaixo observa-se que a sigmoide transforma qualquer valor para a faixa entre 0 e 1"
   ]
  },
  {
   "cell_type": "code",
   "execution_count": 5,
   "metadata": {},
   "outputs": [
    {
     "data": {
      "text/plain": [
       "[<matplotlib.lines.Line2D at 0x1d5aaec7198>]"
      ]
     },
     "execution_count": 5,
     "metadata": {},
     "output_type": "execute_result"
    },
    {
     "data": {
      "image/png": "[encoded data removed]",
      "text/plain": [
       "<Figure size 432x288 with 1 Axes>"
      ]
     },
     "metadata": {
      "needs_background": "light"
     },
     "output_type": "display_data"
    }
   ],
   "source": [
    "x = (np.array(range(2000)) - 1000) / 100 \n",
    "plt.plot(x, sigmoide(x))"
   ]
  },
  {
   "cell_type": "code",
   "execution_count": 6,
   "metadata": {},
   "outputs": [],
   "source": [
    "class Perceptron:\n",
    "    \n",
    "    def __init__(self, tamanho_entrada, taxa_aprendizado):\n",
    "        \"\"\"\n",
    "            O perceptron possui tamanho_entrada + 1 pesos\n",
    "        \"\"\"\n",
    "        # Inicializando com valores entre -0.1 e 0.1\n",
    "        self.pesos = (np.random.random(size=tamanho_entrada+1) - 0.5) / 5\n",
    "        self.taxa_aprendizado = taxa_aprendizado\n",
    "        \n",
    "    def predicao(self, entrada):\n",
    "        # Adicionando o viés\n",
    "        entrada_neuronio = np.concatenate([np.array([1]), entrada])\n",
    "        # Multiplicando cada valor pelo seu peso\n",
    "        entrada_neuronio = entrada_neuronio * self.pesos\n",
    "        # Aplicando a função de ativação sobre a soma dos valores que chegam ao neurônio\n",
    "        ativacao = sigmoide(sum(entrada_neuronio))\n",
    "        return ativacao\n",
    "    \n",
    "    def gradientes(self, entrada, predicao, y_real):\n",
    "        # Cada peso terá um gradiente\n",
    "        gradientes = np.concatenate([np.array([1]), entrada]) * (y_real - predicao)\n",
    "        return gradientes\n",
    "    \n",
    "    def atualizar_pesos(self, gradientes):\n",
    "        self.pesos += self.taxa_aprendizado * gradientes\n",
    "    \n",
    "    \n",
    "    def treinar_exemplo(self, entrada, y_real):\n",
    "        predicao = self.predicao(entrada)\n",
    "        gradientes = self.gradientes(entrada, predicao, y_real)\n",
    "        self.atualizar_pesos(gradientes)\n",
    "        \n",
    "    def treinar_batch(self, entradas, saidas_esperadas):\n",
    "        gradientes = np.zeros(shape=self.pesos.shape)\n",
    "        for i in range(len(entradas)):\n",
    "            entrada = entradas[i]\n",
    "            saida = saidas_esperadas[i]\n",
    "            predicao = self.predicao(entrada)\n",
    "            gradientes += self.gradientes(entrada, predicao, saida)\n",
    "        self.atualizar_pesos(gradientes / entradas.shape[0])  # média dos gradientes\n",
    "        \n",
    "    def calcular_erro(self, entradas, saidas_esperadas):\n",
    "        erro = 0\n",
    "        for i, entrada in enumerate(entradas):\n",
    "            predicao = self.predicao(entrada)\n",
    "            if predicao > 0.5:\n",
    "                predicao = 1\n",
    "            else:\n",
    "                predicao = 0\n",
    "            erro += abs(saidas_esperadas[i] - predicao)\n",
    "        return erro / len(entradas)\n",
    "        \n",
    "    def treinar(self, entradas, saidas, tipo=\"exemplo\"):\n",
    "        print(\"Pesos iniciais: \", self.pesos)\n",
    "        erro = self.calcular_erro(entradas, saidas)\n",
    "        print(\"Erro inicial: \", erro)        \n",
    "        \"\"\" Treina até obter erro zero sobre o conjunto \"\"\"\n",
    "        epoch = 1\n",
    "        while erro > 0:\n",
    "            self.treinar_batch(entradas, saidas)\n",
    "            print(\"Epoch \", epoch)\n",
    "            print(\"Pesos: \", self.pesos)\n",
    "            erro = self.calcular_erro(entradas, saidas)\n",
    "            print(\"Erro: \", erro)\n",
    "            epoch += 1\n",
    "            "
   ]
  },
  {
   "cell_type": "code",
   "execution_count": 7,
   "metadata": {},
   "outputs": [],
   "source": [
    "perceptron = Perceptron(2, 0.05)"
   ]
  },
  {
   "cell_type": "code",
   "execution_count": 8,
   "metadata": {},
   "outputs": [],
   "source": [
    "# Dados\n",
    "x = []\n",
    "y = []\n",
    "for i in [0, 1]:\n",
    "    for j in [0, 1]:\n",
    "        x.append([i, j])\n",
    "        if i and j:            \n",
    "            y.append(1)\n",
    "        else:\n",
    "            y.append(0)\n",
    "x = np.array(x)\n",
    "y = np.array(y)"
   ]
  },
  {
   "cell_type": "code",
   "execution_count": 9,
   "metadata": {},
   "outputs": [
    {
     "data": {
      "text/plain": [
       "array([[0, 0],\n",
       "       [0, 1],\n",
       "       [1, 0],\n",
       "       [1, 1]])"
      ]
     },
     "execution_count": 9,
     "metadata": {},
     "output_type": "execute_result"
    }
   ],
   "source": [
    "x"
   ]
  },
  {
   "cell_type": "code",
   "execution_count": 10,
   "metadata": {},
   "outputs": [
    {
     "data": {
      "text/plain": [
       "array([0, 0, 0, 1])"
      ]
     },
     "execution_count": 10,
     "metadata": {},
     "output_type": "execute_result"
    }
   ],
   "source": [
    "y"
   ]
  },
  {
   "cell_type": "code",
   "execution_count": 11,
   "metadata": {},
   "outputs": [
    {
     "name": "stdout",
     "output_type": "stream",
     "text": [
      "Pesos iniciais:  [0.09761751 0.01218655 0.06703477]\n",
      "Erro inicial:  0.75\n",
      "Epoch  1\n",
      "Pesos:  [0.08340534 0.01129257 0.0659702 ]\n",
      "Erro:  0.75\n",
      "Epoch  2\n",
      "Pesos:  [0.06938219 0.01049585 0.06500326]\n",
      "Erro:  0.75\n",
      "Epoch  3\n",
      "Pesos:  [0.05554469 0.0097944  0.06413197]\n",
      "Erro:  0.75\n",
      "Epoch  4\n",
      "Pesos:  [0.04188947 0.00918625 0.06335439]\n",
      "Erro:  0.75\n",
      "Epoch  5\n",
      "Pesos:  [0.02841322 0.00866947 0.06266861]\n",
      "Erro:  0.75\n",
      "Epoch  6\n",
      "Pesos:  [0.01511266 0.00824214 0.06207271]\n",
      "Erro:  0.75\n",
      "Epoch  7\n",
      "Pesos:  [0.00198457 0.00790236 0.06156482]\n",
      "Erro:  0.75\n",
      "Epoch  8\n",
      "Pesos:  [-0.01097424  0.00764827  0.06114311]\n",
      "Erro:  0.25\n",
      "Epoch  9\n",
      "Pesos:  [-0.02376693  0.00747803  0.06080573]\n",
      "Erro:  0.25\n",
      "Epoch  10\n",
      "Pesos:  [-0.03639658  0.00738984  0.06055091]\n",
      "Erro:  0.25\n",
      "Epoch  11\n",
      "Pesos:  [-0.04886626  0.00738192  0.06037686]\n",
      "Erro:  0.25\n",
      "Epoch  12\n",
      "Pesos:  [-0.06117897  0.0074525   0.06028186]\n",
      "Erro:  0.0\n"
     ]
    }
   ],
   "source": [
    "perceptron.treinar(x, y)"
   ]
  },
  {
   "cell_type": "code",
   "execution_count": 12,
   "metadata": {},
   "outputs": [
    {
     "name": "stdout",
     "output_type": "stream",
     "text": [
      "Entrada:  [0 0]\n",
      "Saída:  0\n",
      "\n",
      "\n",
      "Entrada:  [0 1]\n",
      "Saída:  0\n",
      "\n",
      "\n",
      "Entrada:  [1 0]\n",
      "Saída:  0\n",
      "\n",
      "\n",
      "Entrada:  [1 1]\n",
      "Saída:  1\n",
      "\n",
      "\n"
     ]
    }
   ],
   "source": [
    "for entrada in x:\n",
    "    print(\"Entrada: \", entrada)\n",
    "    predicao = perceptron.predicao(entrada)\n",
    "    saida = int(predicao > 0.5)\n",
    "    print(\"Saída: \", saida , end=\"\\n\\n\\n\")"
   ]
  }
 ],
 "metadata": {
  "kernelspec": {
   "display_name": "Python 3",
   "language": "python",
   "name": "python3"
  },
  "language_info": {
   "codemirror_mode": {
    "name": "ipython",
    "version": 3
   },
   "file_extension": ".py",
   "mimetype": "text/x-python",
   "name": "python",
   "nbconvert_exporter": "python",
   "pygments_lexer": "ipython3",
   "version": "3.7.3"
  }
 },
 "nbformat": 4,
 "nbformat_minor": 2
}
