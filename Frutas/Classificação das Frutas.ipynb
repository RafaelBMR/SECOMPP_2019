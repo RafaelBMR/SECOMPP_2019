{
 "cells": [
  {
   "cell_type": "markdown",
   "metadata": {},
   "source": [
    "# CNN para classificar imagens de frutas"
   ]
  },
  {
   "cell_type": "code",
   "execution_count": 1,
   "metadata": {},
   "outputs": [
    {
     "name": "stderr",
     "output_type": "stream",
     "text": [
      "Using TensorFlow backend.\n"
     ]
    }
   ],
   "source": [
    "import json\n",
    "import numpy as np\n",
    "from keras.utils import to_categorical"
   ]
  },
  {
   "cell_type": "code",
   "execution_count": 2,
   "metadata": {},
   "outputs": [],
   "source": [
    "with open(\"fruta2id.json\", mode=\"r\") as f:\n",
    "    fruta2id = json.load(f)"
   ]
  },
  {
   "cell_type": "code",
   "execution_count": 3,
   "metadata": {},
   "outputs": [
    {
     "data": {
      "text/plain": [
       "{'Apple Red Yellow 2': 0,\n",
       " 'Cherry 2': 1,\n",
       " 'Cherry Rainier': 2,\n",
       " 'Melon Piel de Sapo': 3,\n",
       " 'Peach 2': 4,\n",
       " 'Pear Forelle': 5,\n",
       " 'Pear Red': 6,\n",
       " 'Pepper Red': 7,\n",
       " 'Pepper Yellow': 8,\n",
       " 'Strawberry Wedge': 9,\n",
       " 'Tomato 1': 10,\n",
       " 'Tomato 2': 11,\n",
       " 'Tomato 3': 12,\n",
       " 'Walnut': 13}"
      ]
     },
     "execution_count": 3,
     "metadata": {},
     "output_type": "execute_result"
    }
   ],
   "source": [
    "fruta2id"
   ]
  },
  {
   "cell_type": "code",
   "execution_count": 4,
   "metadata": {},
   "outputs": [],
   "source": [
    "dados = np.load(\"frutas.npz\")\n",
    "x_train = dados['x_train']\n",
    "x_val = dados['x_val']\n",
    "x_test = dados['x_test']\n",
    "y_train = to_categorical(dados['y_train'])\n",
    "y_val = to_categorical(dados['y_val'])\n",
    "y_test = to_categorical(dados['y_test'])"
   ]
  },
  {
   "cell_type": "markdown",
   "metadata": {},
   "source": [
    "# Arquitetura da rede\n",
    "<p>Para este problema apenas uma camada oculta, e com menos neurônios, funcionou.</p>"
   ]
  },
  {
   "cell_type": "code",
   "execution_count": 5,
   "metadata": {},
   "outputs": [],
   "source": [
    "from keras.layers import Input, Dense, Conv2D, SpatialDropout2D, MaxPooling2D, Flatten, Dropout\n",
    "from keras.models import Model\n",
    "from keras.optimizers import Adam\n",
    "from keras.callbacks import ModelCheckpoint"
   ]
  },
  {
   "cell_type": "code",
   "execution_count": 6,
   "metadata": {},
   "outputs": [
    {
     "name": "stdout",
     "output_type": "stream",
     "text": [
      "WARNING:tensorflow:From c:\\users\\rafae\\envs\\tccnewenv\\lib\\site-packages\\tensorflow\\python\\framework\\op_def_library.py:263: colocate_with (from tensorflow.python.framework.ops) is deprecated and will be removed in a future version.\n",
      "Instructions for updating:\n",
      "Colocations handled automatically by placer.\n",
      "WARNING:tensorflow:From c:\\users\\rafae\\envs\\tccnewenv\\lib\\site-packages\\keras\\backend\\tensorflow_backend.py:3445: calling dropout (from tensorflow.python.ops.nn_ops) with keep_prob is deprecated and will be removed in a future version.\n",
      "Instructions for updating:\n",
      "Please use `rate` instead of `keep_prob`. Rate should be set to `rate = 1 - keep_prob`.\n"
     ]
    }
   ],
   "source": [
    "entrada = Input(shape=(x_train.shape[1:]))\n",
    "conv1 = Conv2D(16, 2, activation='relu', padding='same')(entrada)\n",
    "max1 = MaxPooling2D()(conv1)\n",
    "conv2 = Conv2D(32, 2, activation='relu', padding='same')(max1)\n",
    "max2 = MaxPooling2D()(conv2)\n",
    "conv3 = Conv2D(64, 2, activation='relu', padding='same')(max2)\n",
    "max3 = MaxPooling2D()(conv3)\n",
    "conv4 = Conv2D(128, 2, activation='relu', padding='same')(max3)\n",
    "max4 = MaxPooling2D()(conv4)\n",
    "spatial_drop = SpatialDropout2D(0.3)(max4)\n",
    "flatten = Flatten()(spatial_drop)\n",
    "densa = Dense(150, activation='relu')(flatten)\n",
    "densa_drop = Dropout(0.4)(densa)\n",
    "saida = Dense(len(fruta2id), activation='softmax')(densa_drop)"
   ]
  },
  {
   "cell_type": "code",
   "execution_count": 7,
   "metadata": {},
   "outputs": [
    {
     "name": "stdout",
     "output_type": "stream",
     "text": [
      "_________________________________________________________________\n",
      "Layer (type)                 Output Shape              Param #   \n",
      "=================================================================\n",
      "input_1 (InputLayer)         (None, 100, 100, 3)       0         \n",
      "_________________________________________________________________\n",
      "conv2d_1 (Conv2D)            (None, 100, 100, 16)      208       \n",
      "_________________________________________________________________\n",
      "max_pooling2d_1 (MaxPooling2 (None, 50, 50, 16)        0         \n",
      "_________________________________________________________________\n",
      "conv2d_2 (Conv2D)            (None, 50, 50, 32)        2080      \n",
      "_________________________________________________________________\n",
      "max_pooling2d_2 (MaxPooling2 (None, 25, 25, 32)        0         \n",
      "_________________________________________________________________\n",
      "conv2d_3 (Conv2D)            (None, 25, 25, 64)        8256      \n",
      "_________________________________________________________________\n",
      "max_pooling2d_3 (MaxPooling2 (None, 12, 12, 64)        0         \n",
      "_________________________________________________________________\n",
      "conv2d_4 (Conv2D)            (None, 12, 12, 128)       32896     \n",
      "_________________________________________________________________\n",
      "max_pooling2d_4 (MaxPooling2 (None, 6, 6, 128)         0         \n",
      "_________________________________________________________________\n",
      "spatial_dropout2d_1 (Spatial (None, 6, 6, 128)         0         \n",
      "_________________________________________________________________\n",
      "flatten_1 (Flatten)          (None, 4608)              0         \n",
      "_________________________________________________________________\n",
      "dense_1 (Dense)              (None, 150)               691350    \n",
      "_________________________________________________________________\n",
      "dropout_1 (Dropout)          (None, 150)               0         \n",
      "_________________________________________________________________\n",
      "dense_2 (Dense)              (None, 14)                2114      \n",
      "=================================================================\n",
      "Total params: 736,904\n",
      "Trainable params: 736,904\n",
      "Non-trainable params: 0\n",
      "_________________________________________________________________\n"
     ]
    }
   ],
   "source": [
    "model = Model(entrada, saida)\n",
    "model.summary()"
   ]
  },
  {
   "cell_type": "markdown",
   "metadata": {},
   "source": [
    "### Para mostrar alternativas, alterei o otimizador nesta rede\n",
    "### Também adicionei a métrica acurácia (accuracy)"
   ]
  },
  {
   "cell_type": "code",
   "execution_count": 8,
   "metadata": {},
   "outputs": [],
   "source": [
    "adam = Adam(lr=0.0001)\n",
    "model.compile(adam, loss='categorical_crossentropy', metrics=['accuracy'])"
   ]
  },
  {
   "cell_type": "code",
   "execution_count": 9,
   "metadata": {},
   "outputs": [],
   "source": [
    "BATCH_SIZE = 32\n",
    "NUM_EPOCHS = 5"
   ]
  },
  {
   "cell_type": "code",
   "execution_count": 10,
   "metadata": {},
   "outputs": [],
   "source": [
    "checkpoint = ModelCheckpoint(filepath = 'model_frutas_{epoch:02d}.hdf5', save_best_only = True)"
   ]
  },
  {
   "cell_type": "markdown",
   "metadata": {},
   "source": [
    "# Treinamento"
   ]
  },
  {
   "cell_type": "code",
   "execution_count": 11,
   "metadata": {},
   "outputs": [
    {
     "name": "stdout",
     "output_type": "stream",
     "text": [
      "WARNING:tensorflow:From c:\\users\\rafae\\envs\\tccnewenv\\lib\\site-packages\\tensorflow\\python\\ops\\math_ops.py:3066: to_int32 (from tensorflow.python.ops.math_ops) is deprecated and will be removed in a future version.\n",
      "Instructions for updating:\n",
      "Use tf.cast instead.\n",
      "Train on 6961 samples, validate on 2984 samples\n",
      "Epoch 1/5\n",
      "6961/6961 [==============================] - 80s 11ms/step - loss: 14.4183 - acc: 0.0915 - val_loss: 13.7188 - val_acc: 0.1481\n",
      "Epoch 2/5\n",
      "6961/6961 [==============================] - 78s 11ms/step - loss: 5.5601 - acc: 0.3270 - val_loss: 0.5825 - val_acc: 0.9021\n",
      "Epoch 3/5\n",
      "6961/6961 [==============================] - 81s 12ms/step - loss: 0.7447 - acc: 0.7400 - val_loss: 0.0913 - val_acc: 0.9775\n",
      "Epoch 4/5\n",
      "6961/6961 [==============================] - 84s 12ms/step - loss: 0.3196 - acc: 0.8848 - val_loss: 0.0355 - val_acc: 0.9940\n",
      "Epoch 5/5\n",
      "6961/6961 [==============================] - 85s 12ms/step - loss: 0.1996 - acc: 0.9273 - val_loss: 0.0172 - val_acc: 0.9973\n"
     ]
    }
   ],
   "source": [
    "history = model.fit(x=x_train, y=y_train, batch_size=32, callbacks=[checkpoint], validation_data=(x_val, y_val), epochs=NUM_EPOCHS)"
   ]
  },
  {
   "cell_type": "markdown",
   "metadata": {},
   "source": [
    "### Daqui em diante utilizei o parâmetro initial_epoch para retomar o treinamento."
   ]
  },
  {
   "cell_type": "code",
   "execution_count": 12,
   "metadata": {},
   "outputs": [
    {
     "name": "stdout",
     "output_type": "stream",
     "text": [
      "Train on 6961 samples, validate on 2984 samples\n",
      "Epoch 6/10\n",
      "6961/6961 [==============================] - 85s 12ms/step - loss: 0.1412 - acc: 0.9503 - val_loss: 0.0093 - val_acc: 0.9983\n",
      "Epoch 7/10\n",
      "6961/6961 [==============================] - 86s 12ms/step - loss: 0.0855 - acc: 0.9718 - val_loss: 0.0039 - val_acc: 0.9997\n",
      "Epoch 8/10\n",
      "6961/6961 [==============================] - 83s 12ms/step - loss: 0.0732 - acc: 0.9753 - val_loss: 0.0030 - val_acc: 1.0000\n",
      "Epoch 9/10\n",
      "6961/6961 [==============================] - 81s 12ms/step - loss: 0.0539 - acc: 0.9825 - val_loss: 0.0026 - val_acc: 1.0000\n",
      "Epoch 10/10\n",
      "6961/6961 [==============================] - 82s 12ms/step - loss: 0.0422 - acc: 0.9868 - val_loss: 0.0012 - val_acc: 1.0000\n"
     ]
    }
   ],
   "source": [
    "history2 = model.fit(x=x_train, y=y_train, batch_size=32, callbacks=[checkpoint], validation_data=(x_val, y_val), \n",
    "                     epochs=NUM_EPOCHS+5, initial_epoch=NUM_EPOCHS)"
   ]
  },
  {
   "cell_type": "code",
   "execution_count": 13,
   "metadata": {},
   "outputs": [
    {
     "name": "stdout",
     "output_type": "stream",
     "text": [
      "Train on 6961 samples, validate on 2984 samples\n",
      "Epoch 11/15\n",
      "6961/6961 [==============================] - 82s 12ms/step - loss: 0.0483 - acc: 0.9858 - val_loss: 0.0011 - val_acc: 1.0000\n",
      "Epoch 12/15\n",
      "6961/6961 [==============================] - 82s 12ms/step - loss: 0.0249 - acc: 0.9927 - val_loss: 6.2679e-04 - val_acc: 1.0000\n",
      "Epoch 13/15\n",
      "6961/6961 [==============================] - 82s 12ms/step - loss: 0.0264 - acc: 0.9921 - val_loss: 5.6902e-04 - val_acc: 1.0000\n",
      "Epoch 14/15\n",
      "6961/6961 [==============================] - 82s 12ms/step - loss: 0.0212 - acc: 0.9922 - val_loss: 4.5393e-04 - val_acc: 1.0000\n",
      "Epoch 15/15\n",
      "6961/6961 [==============================] - 82s 12ms/step - loss: 0.0218 - acc: 0.9938 - val_loss: 8.4468e-04 - val_acc: 1.0000\n"
     ]
    }
   ],
   "source": [
    "history3 = model.fit(x=x_train, y=y_train, batch_size=32, callbacks=[checkpoint], validation_data=(x_val, y_val), \n",
    "                     epochs=15, initial_epoch=10)"
   ]
  },
  {
   "cell_type": "code",
   "execution_count": 14,
   "metadata": {},
   "outputs": [
    {
     "name": "stdout",
     "output_type": "stream",
     "text": [
      "Train on 6961 samples, validate on 2984 samples\n",
      "Epoch 16/20\n",
      "6961/6961 [==============================] - 81s 12ms/step - loss: 0.0190 - acc: 0.9930 - val_loss: 2.6153e-04 - val_acc: 1.0000\n",
      "Epoch 17/20\n",
      "6961/6961 [==============================] - 81s 12ms/step - loss: 0.0178 - acc: 0.9947 - val_loss: 2.5036e-04 - val_acc: 1.0000\n",
      "Epoch 18/20\n",
      "6961/6961 [==============================] - 83s 12ms/step - loss: 0.0195 - acc: 0.9941 - val_loss: 5.4295e-04 - val_acc: 1.0000\n",
      "Epoch 19/20\n",
      "6961/6961 [==============================] - 82s 12ms/step - loss: 0.0110 - acc: 0.9968 - val_loss: 2.4985e-04 - val_acc: 1.0000\n",
      "Epoch 20/20\n",
      "6961/6961 [==============================] - 82s 12ms/step - loss: 0.0143 - acc: 0.9961 - val_loss: 1.5197e-04 - val_acc: 1.0000\n"
     ]
    }
   ],
   "source": [
    "history4 = model.fit(x=x_train, y=y_train, batch_size=32, callbacks=[checkpoint], validation_data=(x_val, y_val), \n",
    "                     epochs=20, initial_epoch=15)"
   ]
  },
  {
   "cell_type": "markdown",
   "metadata": {},
   "source": [
    "# Curva de Aprendizado"
   ]
  },
  {
   "cell_type": "code",
   "execution_count": 16,
   "metadata": {},
   "outputs": [],
   "source": [
    "import matplotlib.pyplot as plt"
   ]
  },
  {
   "cell_type": "code",
   "execution_count": 17,
   "metadata": {},
   "outputs": [],
   "source": [
    "# concatenando listas\n",
    "losses = history.history['loss'] + history2.history['loss'] + history3.history['loss'] + history4.history['loss']\n",
    "losses = np.array(losses)\n",
    "val_losses = (history.history['val_loss'] + history2.history['val_loss'] + \n",
    "              history3.history['val_loss'] + history4.history['val_loss'])\n",
    "val_losses = np.array(val_losses)\n",
    "# acurácia\n",
    "accuracies = history.history['acc'] + history2.history['acc'] + history3.history['acc'] + history4.history['acc']\n",
    "accuracies = np.array(accuracies)\n",
    "val_accuracies = (history.history['val_acc'] + history2.history['val_acc'] + \n",
    "                  history3.history['val_acc'] + history4.history['val_acc'])\n",
    "val_accuracies = np.array(val_accuracies)"
   ]
  },
  {
   "cell_type": "markdown",
   "metadata": {},
   "source": [
    "# Loss durante o treinamento"
   ]
  },
  {
   "cell_type": "code",
   "execution_count": 21,
   "metadata": {},
   "outputs": [
    {
     "data": {
      "text/plain": [
       "<matplotlib.legend.Legend at 0x2c84b685f98>"
      ]
     },
     "execution_count": 21,
     "metadata": {},
     "output_type": "execute_result"
    },
    {
     "data": {
      "image/png": "[encoded data removed]",
      "text/plain": [
       "<Figure size 432x288 with 1 Axes>"
      ]
     },
     "metadata": {
      "needs_background": "light"
     },
     "output_type": "display_data"
    }
   ],
   "source": [
    "plt.plot(range(len(losses)), losses, 'b', label=\"Training Loss\")\n",
    "plt.plot(range(len(val_losses)), val_losses, 'g', label=\"Validation Loss\")\n",
    "plt.legend()"
   ]
  },
  {
   "cell_type": "markdown",
   "metadata": {},
   "source": [
    "### A primeira época é bem distinta, vamos olhar da terceira para frente"
   ]
  },
  {
   "cell_type": "code",
   "execution_count": 25,
   "metadata": {},
   "outputs": [
    {
     "data": {
      "text/plain": [
       "<matplotlib.legend.Legend at 0x2c84b796f28>"
      ]
     },
     "execution_count": 25,
     "metadata": {},
     "output_type": "execute_result"
    },
    {
     "data": {
      "image/png": "[encoded data removed]",
      "text/plain": [
       "<Figure size 432x288 with 1 Axes>"
      ]
     },
     "metadata": {
      "needs_background": "light"
     },
     "output_type": "display_data"
    }
   ],
   "source": [
    "plt.plot(range(len(losses[2:])), losses[2:], 'b', label=\"Training Loss\")\n",
    "plt.plot(range(len(val_losses[2:])), val_losses[2:], 'g', label=\"Validation Loss\")\n",
    "plt.legend()"
   ]
  },
  {
   "cell_type": "markdown",
   "metadata": {},
   "source": [
    "# Acurácia durante o treinamento"
   ]
  },
  {
   "cell_type": "code",
   "execution_count": 22,
   "metadata": {},
   "outputs": [
    {
     "data": {
      "text/plain": [
       "<matplotlib.legend.Legend at 0x2c84b6eada0>"
      ]
     },
     "execution_count": 22,
     "metadata": {},
     "output_type": "execute_result"
    },
    {
     "data": {
      "image/png": "[encoded data removed]",
      "text/plain": [
       "<Figure size 432x288 with 1 Axes>"
      ]
     },
     "metadata": {
      "needs_background": "light"
     },
     "output_type": "display_data"
    }
   ],
   "source": [
    "plt.plot(range(len(accuracies)), accuracies, 'b', label=\"Training Accuracy\")\n",
    "plt.plot(range(len(val_accuracies)), val_accuracies, 'g', label=\"Validation Accuracy\")\n",
    "plt.legend()"
   ]
  },
  {
   "cell_type": "code",
   "execution_count": 26,
   "metadata": {},
   "outputs": [],
   "source": [
    "from sklearn.metrics import classification_report, accuracy_score, confusion_matrix\n",
    "from keras.models import load_model"
   ]
  },
  {
   "cell_type": "code",
   "execution_count": 27,
   "metadata": {},
   "outputs": [],
   "source": [
    "melhor_modelo = load_model(\"model_frutas_20.hdf5\")  # a última ter sido a melhor foi coincidência"
   ]
  },
  {
   "cell_type": "code",
   "execution_count": 28,
   "metadata": {},
   "outputs": [],
   "source": [
    "predicoes = melhor_modelo.predict(x_test)"
   ]
  },
  {
   "cell_type": "code",
   "execution_count": 29,
   "metadata": {},
   "outputs": [
    {
     "name": "stdout",
     "output_type": "stream",
     "text": [
      "              precision    recall  f1-score   support\n",
      "\n",
      "           0       1.00      1.00      1.00       219\n",
      "           1       1.00      1.00      1.00       246\n",
      "           2       1.00      1.00      1.00       246\n",
      "           3       1.00      1.00      1.00       246\n",
      "           4       1.00      1.00      1.00       246\n",
      "           5       1.00      1.00      1.00       234\n",
      "           6       1.00      1.00      1.00       222\n",
      "           7       1.00      1.00      1.00       222\n",
      "           8       1.00      1.00      1.00       222\n",
      "           9       1.00      1.00      1.00       246\n",
      "          10       1.00      1.00      1.00       246\n",
      "          11       1.00      1.00      1.00       225\n",
      "          12       1.00      1.00      1.00       246\n",
      "          13       1.00      1.00      1.00       249\n",
      "\n",
      "   micro avg       1.00      1.00      1.00      3315\n",
      "   macro avg       1.00      1.00      1.00      3315\n",
      "weighted avg       1.00      1.00      1.00      3315\n",
      "\n"
     ]
    }
   ],
   "source": [
    "print(classification_report(dados['y_test'], np.argmax(predicoes, axis=1)))"
   ]
  },
  {
   "cell_type": "code",
   "execution_count": 30,
   "metadata": {},
   "outputs": [
    {
     "name": "stdout",
     "output_type": "stream",
     "text": [
      "0.9996983408748115\n"
     ]
    }
   ],
   "source": [
    "print(accuracy_score(dados['y_test'], np.argmax(predicoes, axis=1)))"
   ]
  },
  {
   "cell_type": "code",
   "execution_count": 31,
   "metadata": {},
   "outputs": [
    {
     "name": "stdout",
     "output_type": "stream",
     "text": [
      "[[219   0   0   0   0   0   0   0   0   0   0   0   0   0]\n",
      " [  0 246   0   0   0   0   0   0   0   0   0   0   0   0]\n",
      " [  0   0 246   0   0   0   0   0   0   0   0   0   0   0]\n",
      " [  0   0   0 246   0   0   0   0   0   0   0   0   0   0]\n",
      " [  0   0   0   0 246   0   0   0   0   0   0   0   0   0]\n",
      " [  0   0   0   0   0 234   0   0   0   0   0   0   0   0]\n",
      " [  0   0   0   0   0   0 222   0   0   0   0   0   0   0]\n",
      " [  0   0   0   0   0   0   0 222   0   0   0   0   0   0]\n",
      " [  0   0   0   0   0   0   0   0 222   0   0   0   0   0]\n",
      " [  0   0   0   0   0   1   0   0   0 245   0   0   0   0]\n",
      " [  0   0   0   0   0   0   0   0   0   0 246   0   0   0]\n",
      " [  0   0   0   0   0   0   0   0   0   0   0 225   0   0]\n",
      " [  0   0   0   0   0   0   0   0   0   0   0   0 246   0]\n",
      " [  0   0   0   0   0   0   0   0   0   0   0   0   0 249]]\n"
     ]
    }
   ],
   "source": [
    "print(confusion_matrix(dados['y_test'], np.argmax(predicoes, axis=1)))"
   ]
  },
  {
   "cell_type": "markdown",
   "metadata": {},
   "source": [
    "## A rede errou apenas 1 exemplo! Essa é a melhor rede neural do mundo?\n",
    "### Não. É muito mais provável que o dataset seja muito fácil, e que a rede não se sairá bem em exemplos do mundo real."
   ]
  },
  {
   "cell_type": "code",
   "execution_count": 32,
   "metadata": {},
   "outputs": [],
   "source": [
    "# Você pode salvar somente os pesos\n",
    "melhor_modelo.save_weights(\"pesos_frutas.hdf5\")"
   ]
  },
  {
   "cell_type": "code",
   "execution_count": null,
   "metadata": {},
   "outputs": [],
   "source": []
  }
 ],
 "metadata": {
  "kernelspec": {
   "display_name": "Python 3",
   "language": "python",
   "name": "python3"
  },
  "language_info": {
   "codemirror_mode": {
    "name": "ipython",
    "version": 3
   },
   "file_extension": ".py",
   "mimetype": "text/x-python",
   "name": "python",
   "nbconvert_exporter": "python",
   "pygments_lexer": "ipython3",
   "version": "3.7.3"
  }
 },
 "nbformat": 4,
 "nbformat_minor": 2
}
