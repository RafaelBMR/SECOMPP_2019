{
 "cells": [
  {
   "cell_type": "markdown",
   "metadata": {},
   "source": [
    "# Treinamento de uma rede neural convolucional para classificar imagens do dataset CIFAR10"
   ]
  },
  {
   "cell_type": "code",
   "execution_count": 1,
   "metadata": {},
   "outputs": [],
   "source": [
    "import numpy as np"
   ]
  },
  {
   "cell_type": "code",
   "execution_count": 2,
   "metadata": {},
   "outputs": [
    {
     "name": "stderr",
     "output_type": "stream",
     "text": [
      "Using TensorFlow backend.\n"
     ]
    }
   ],
   "source": [
    "from keras.models import Model\n",
    "from keras.layers import Input, Dense, Conv2D, MaxPooling2D, Flatten\n",
    "from keras.callbacks import ModelCheckpoint\n",
    "from keras.optimizers import SGD"
   ]
  },
  {
   "cell_type": "markdown",
   "metadata": {},
   "source": [
    "# Carregando os dados"
   ]
  },
  {
   "cell_type": "code",
   "execution_count": 3,
   "metadata": {},
   "outputs": [],
   "source": [
    "cifar10 = np.load(\"cifar10_preparado.npz\")"
   ]
  },
  {
   "cell_type": "code",
   "execution_count": 5,
   "metadata": {},
   "outputs": [],
   "source": [
    "x_train = cifar10['x_train']\n",
    "x_val = cifar10['x_val']\n",
    "x_test = cifar10['x_test']\n",
    "y_train = cifar10['y_train']\n",
    "y_val = cifar10['y_val']\n",
    "y_test = cifar10['y_test']"
   ]
  },
  {
   "cell_type": "markdown",
   "metadata": {},
   "source": [
    "# Definindo a rede neural"
   ]
  },
  {
   "cell_type": "code",
   "execution_count": 15,
   "metadata": {},
   "outputs": [],
   "source": [
    "entrada = Input(shape=(x_train.shape[1:]))\n",
    "conv1 = Conv2D(32, 3, activation='relu')(entrada)\n",
    "max1 = MaxPooling2D()(conv1)\n",
    "conv2 = Conv2D(64, 3, activation='relu')(max1)\n",
    "max2 = MaxPooling2D()(conv2)\n",
    "conv3 = Conv2D(128, 3, activation='relu')(max2)\n",
    "max3 = MaxPooling2D()(conv3)\n",
    "flatten = Flatten()(max3)\n",
    "densa1 = Dense(512, activation='relu')(flatten)\n",
    "densa2 = Dense(512, activation='relu')(densa1)\n",
    "saida = Dense(10, activation='softmax')(densa2)"
   ]
  },
  {
   "cell_type": "code",
   "execution_count": 16,
   "metadata": {},
   "outputs": [
    {
     "name": "stdout",
     "output_type": "stream",
     "text": [
      "_________________________________________________________________\n",
      "Layer (type)                 Output Shape              Param #   \n",
      "=================================================================\n",
      "input_2 (InputLayer)         (None, 32, 32, 3)         0         \n",
      "_________________________________________________________________\n",
      "conv2d_4 (Conv2D)            (None, 30, 30, 32)        896       \n",
      "_________________________________________________________________\n",
      "max_pooling2d_4 (MaxPooling2 (None, 15, 15, 32)        0         \n",
      "_________________________________________________________________\n",
      "conv2d_5 (Conv2D)            (None, 13, 13, 64)        18496     \n",
      "_________________________________________________________________\n",
      "max_pooling2d_5 (MaxPooling2 (None, 6, 6, 64)          0         \n",
      "_________________________________________________________________\n",
      "conv2d_6 (Conv2D)            (None, 4, 4, 128)         73856     \n",
      "_________________________________________________________________\n",
      "max_pooling2d_6 (MaxPooling2 (None, 2, 2, 128)         0         \n",
      "_________________________________________________________________\n",
      "flatten_2 (Flatten)          (None, 512)               0         \n",
      "_________________________________________________________________\n",
      "dense_4 (Dense)              (None, 512)               262656    \n",
      "_________________________________________________________________\n",
      "dense_5 (Dense)              (None, 512)               262656    \n",
      "_________________________________________________________________\n",
      "dense_6 (Dense)              (None, 10)                5130      \n",
      "=================================================================\n",
      "Total params: 623,690\n",
      "Trainable params: 623,690\n",
      "Non-trainable params: 0\n",
      "_________________________________________________________________\n"
     ]
    }
   ],
   "source": [
    "classificador = Model(entrada, saida)\n",
    "classificador.summary()"
   ]
  },
  {
   "cell_type": "code",
   "execution_count": 17,
   "metadata": {},
   "outputs": [],
   "source": [
    "sgd = SGD(lr=0.001)\n",
    "classificador.compile(optimizer = sgd, loss='categorical_crossentropy')"
   ]
  },
  {
   "cell_type": "markdown",
   "metadata": {},
   "source": [
    "# Treinamento"
   ]
  },
  {
   "cell_type": "code",
   "execution_count": 18,
   "metadata": {},
   "outputs": [],
   "source": [
    "from keras.utils import to_categorical"
   ]
  },
  {
   "cell_type": "code",
   "execution_count": 19,
   "metadata": {},
   "outputs": [
    {
     "data": {
      "text/plain": [
       "array([[0., 0., 0., 1., 0., 0., 0., 0., 0., 0.],\n",
       "       [0., 0., 0., 1., 0., 0., 0., 0., 0., 0.],\n",
       "       [0., 0., 0., 0., 1., 0., 0., 0., 0., 0.],\n",
       "       [1., 0., 0., 0., 0., 0., 0., 0., 0., 0.],\n",
       "       [0., 0., 0., 0., 0., 1., 0., 0., 0., 0.]], dtype=float32)"
      ]
     },
     "execution_count": 19,
     "metadata": {},
     "output_type": "execute_result"
    }
   ],
   "source": [
    "# A saída deve ser um vetor com 10 elementos, um para cada classe, o qual terá o número 1 na posição correspondente \n",
    "# à classe e 0 nas demais posições. Utilizaremos a função to_categorical para fazer isso\n",
    "to_categorical(y_train[:5], num_classes=10)"
   ]
  },
  {
   "cell_type": "code",
   "execution_count": 20,
   "metadata": {},
   "outputs": [],
   "source": [
    "BATCH_SIZE = 64\n",
    "NUM_EPOCHS = 70"
   ]
  },
  {
   "cell_type": "code",
   "execution_count": 21,
   "metadata": {},
   "outputs": [],
   "source": [
    "model_checkpoint = ModelCheckpoint(\"classificador_epoch_{epoch:02d}.hdf5\", save_best_only=True)"
   ]
  },
  {
   "cell_type": "code",
   "execution_count": 22,
   "metadata": {},
   "outputs": [
    {
     "name": "stdout",
     "output_type": "stream",
     "text": [
      "WARNING:tensorflow:From c:\\users\\rafae\\envs\\tccnewenv\\lib\\site-packages\\tensorflow\\python\\ops\\math_ops.py:3066: to_int32 (from tensorflow.python.ops.math_ops) is deprecated and will be removed in a future version.\n",
      "Instructions for updating:\n",
      "Use tf.cast instead.\n",
      "Train on 40000 samples, validate on 10000 samples\n",
      "Epoch 1/70\n",
      "40000/40000 [==============================] - 82s 2ms/step - loss: 2.7277 - val_loss: 1.6531\n",
      "Epoch 2/70\n",
      "40000/40000 [==============================] - 130s 3ms/step - loss: 1.6186 - val_loss: 1.5820\n",
      "Epoch 3/70\n",
      "40000/40000 [==============================] - 141s 4ms/step - loss: 1.4911 - val_loss: 1.4382\n",
      "Epoch 4/70\n",
      "40000/40000 [==============================] - 147s 4ms/step - loss: 1.4115 - val_loss: 1.3471\n",
      "Epoch 5/70\n",
      "40000/40000 [==============================] - 151s 4ms/step - loss: 1.3504 - val_loss: 1.4198\n",
      "Epoch 6/70\n",
      "40000/40000 [==============================] - 152s 4ms/step - loss: 1.2975 - val_loss: 1.3418\n",
      "Epoch 7/70\n",
      "40000/40000 [==============================] - 150s 4ms/step - loss: 1.2541 - val_loss: 1.2762\n",
      "Epoch 8/70\n",
      "40000/40000 [==============================] - 150s 4ms/step - loss: 1.2141 - val_loss: 1.2292\n",
      "Epoch 9/70\n",
      "40000/40000 [==============================] - 150s 4ms/step - loss: 1.1799 - val_loss: 1.2230\n",
      "Epoch 10/70\n",
      "40000/40000 [==============================] - 149s 4ms/step - loss: 1.1400 - val_loss: 1.2148\n",
      "Epoch 11/70\n",
      "40000/40000 [==============================] - 154s 4ms/step - loss: 1.1128 - val_loss: 1.2059\n",
      "Epoch 12/70\n",
      "40000/40000 [==============================] - 154s 4ms/step - loss: 1.0816 - val_loss: 1.1569\n",
      "Epoch 13/70\n",
      "40000/40000 [==============================] - 154s 4ms/step - loss: 1.0590 - val_loss: 1.1771\n",
      "Epoch 14/70\n",
      "40000/40000 [==============================] - 153s 4ms/step - loss: 1.0350 - val_loss: 1.1341\n",
      "Epoch 15/70\n",
      "40000/40000 [==============================] - 153s 4ms/step - loss: 1.0106 - val_loss: 1.1450\n",
      "Epoch 16/70\n",
      "40000/40000 [==============================] - 152s 4ms/step - loss: 0.9838 - val_loss: 1.1646\n",
      "Epoch 17/70\n",
      "40000/40000 [==============================] - 153s 4ms/step - loss: 0.9603 - val_loss: 1.0953\n",
      "Epoch 18/70\n",
      "40000/40000 [==============================] - 152s 4ms/step - loss: 0.9400 - val_loss: 1.1367\n",
      "Epoch 19/70\n",
      "40000/40000 [==============================] - 152s 4ms/step - loss: 0.9173 - val_loss: 1.1205\n",
      "Epoch 20/70\n",
      "40000/40000 [==============================] - 144s 4ms/step - loss: 0.9009 - val_loss: 1.0938\n",
      "Epoch 21/70\n",
      "40000/40000 [==============================] - 143s 4ms/step - loss: 0.8811 - val_loss: 1.1244\n",
      "Epoch 22/70\n",
      "40000/40000 [==============================] - 142s 4ms/step - loss: 0.8579 - val_loss: 1.0888\n",
      "Epoch 23/70\n",
      "40000/40000 [==============================] - 144s 4ms/step - loss: 0.8377 - val_loss: 1.1076\n",
      "Epoch 24/70\n",
      "40000/40000 [==============================] - 142s 4ms/step - loss: 0.8196 - val_loss: 1.1117\n",
      "Epoch 25/70\n",
      "40000/40000 [==============================] - 144s 4ms/step - loss: 0.8005 - val_loss: 1.0704\n",
      "Epoch 26/70\n",
      "40000/40000 [==============================] - 145s 4ms/step - loss: 0.7832 - val_loss: 1.0848\n",
      "Epoch 27/70\n",
      "40000/40000 [==============================] - 143s 4ms/step - loss: 0.7670 - val_loss: 1.1744\n",
      "Epoch 28/70\n",
      "40000/40000 [==============================] - 142s 4ms/step - loss: 0.7447 - val_loss: 1.1322\n",
      "Epoch 29/70\n",
      "40000/40000 [==============================] - 143s 4ms/step - loss: 0.7310 - val_loss: 1.1218\n",
      "Epoch 30/70\n",
      "40000/40000 [==============================] - 140s 4ms/step - loss: 0.7083 - val_loss: 1.1173\n",
      "Epoch 31/70\n",
      "40000/40000 [==============================] - 142s 4ms/step - loss: 0.6944 - val_loss: 1.1355\n",
      "Epoch 32/70\n",
      "40000/40000 [==============================] - 143s 4ms/step - loss: 0.6763 - val_loss: 1.1102\n",
      "Epoch 33/70\n",
      "40000/40000 [==============================] - 141s 4ms/step - loss: 0.6590 - val_loss: 1.0875\n",
      "Epoch 34/70\n",
      "40000/40000 [==============================] - 142s 4ms/step - loss: 0.6409 - val_loss: 1.1651\n",
      "Epoch 35/70\n",
      "40000/40000 [==============================] - 141s 4ms/step - loss: 0.6290 - val_loss: 1.1365\n",
      "Epoch 36/70\n",
      "40000/40000 [==============================] - 141s 4ms/step - loss: 0.6091 - val_loss: 1.1660\n",
      "Epoch 37/70\n",
      "40000/40000 [==============================] - 142s 4ms/step - loss: 0.5936 - val_loss: 1.1689\n",
      "Epoch 38/70\n",
      "40000/40000 [==============================] - 142s 4ms/step - loss: 0.5754 - val_loss: 1.1650\n",
      "Epoch 39/70\n",
      "40000/40000 [==============================] - 143s 4ms/step - loss: 0.5616 - val_loss: 1.1855\n",
      "Epoch 40/70\n",
      "40000/40000 [==============================] - 141s 4ms/step - loss: 0.5432 - val_loss: 1.1656\n",
      "Epoch 41/70\n",
      "40000/40000 [==============================] - 142s 4ms/step - loss: 0.5282 - val_loss: 1.1737\n",
      "Epoch 42/70\n",
      "40000/40000 [==============================] - 143s 4ms/step - loss: 0.5165 - val_loss: 1.1463\n",
      "Epoch 43/70\n",
      "40000/40000 [==============================] - 141s 4ms/step - loss: 0.4939 - val_loss: 1.2735\n",
      "Epoch 44/70\n",
      "40000/40000 [==============================] - 141s 4ms/step - loss: 0.4827 - val_loss: 1.2002\n",
      "Epoch 45/70\n",
      "40000/40000 [==============================] - 142s 4ms/step - loss: 0.4664 - val_loss: 1.1892\n",
      "Epoch 46/70\n",
      "40000/40000 [==============================] - 141s 4ms/step - loss: 0.4504 - val_loss: 1.2471\n",
      "Epoch 47/70\n",
      "40000/40000 [==============================] - 141s 4ms/step - loss: 0.4377 - val_loss: 1.2581\n",
      "Epoch 48/70\n",
      "40000/40000 [==============================] - 143s 4ms/step - loss: 0.4203 - val_loss: 1.3259\n",
      "Epoch 49/70\n",
      "40000/40000 [==============================] - 142s 4ms/step - loss: 0.4050 - val_loss: 1.2415\n",
      "Epoch 50/70\n",
      "40000/40000 [==============================] - 142s 4ms/step - loss: 0.3943 - val_loss: 1.3505\n",
      "Epoch 51/70\n",
      "40000/40000 [==============================] - 141s 4ms/step - loss: 0.3789 - val_loss: 1.3004\n",
      "Epoch 52/70\n",
      "40000/40000 [==============================] - 143s 4ms/step - loss: 0.3617 - val_loss: 1.3295\n",
      "Epoch 53/70\n",
      "40000/40000 [==============================] - 143s 4ms/step - loss: 0.3517 - val_loss: 1.3471\n",
      "Epoch 54/70\n",
      "40000/40000 [==============================] - 142s 4ms/step - loss: 0.3361 - val_loss: 1.3905\n",
      "Epoch 55/70\n",
      "40000/40000 [==============================] - 142s 4ms/step - loss: 0.3173 - val_loss: 1.3820\n",
      "Epoch 56/70\n",
      "40000/40000 [==============================] - 143s 4ms/step - loss: 0.3150 - val_loss: 1.3891\n",
      "Epoch 57/70\n",
      "40000/40000 [==============================] - 141s 4ms/step - loss: 0.2903 - val_loss: 1.4225\n",
      "Epoch 58/70\n",
      "40000/40000 [==============================] - 142s 4ms/step - loss: 0.2799 - val_loss: 1.4068\n",
      "Epoch 59/70\n",
      "40000/40000 [==============================] - 141s 4ms/step - loss: 0.2716 - val_loss: 1.4478\n",
      "Epoch 60/70\n",
      "40000/40000 [==============================] - 141s 4ms/step - loss: 0.2568 - val_loss: 1.5219\n",
      "Epoch 61/70\n",
      "40000/40000 [==============================] - 142s 4ms/step - loss: 0.2419 - val_loss: 1.5683\n",
      "Epoch 62/70\n",
      "40000/40000 [==============================] - 142s 4ms/step - loss: 0.2272 - val_loss: 1.4925\n",
      "Epoch 63/70\n",
      "40000/40000 [==============================] - 141s 4ms/step - loss: 0.2203 - val_loss: 1.5729\n",
      "Epoch 64/70\n",
      "40000/40000 [==============================] - 142s 4ms/step - loss: 0.1995 - val_loss: 1.5577\n",
      "Epoch 65/70\n",
      "40000/40000 [==============================] - 142s 4ms/step - loss: 0.2035 - val_loss: 1.6301\n",
      "Epoch 66/70\n",
      "40000/40000 [==============================] - 141s 4ms/step - loss: 0.1761 - val_loss: 1.6286\n",
      "Epoch 67/70\n",
      "40000/40000 [==============================] - 143s 4ms/step - loss: 0.1701 - val_loss: 1.7238\n",
      "Epoch 68/70\n",
      "40000/40000 [==============================] - 142s 4ms/step - loss: 0.1619 - val_loss: 1.6630\n",
      "Epoch 69/70\n",
      "40000/40000 [==============================] - 141s 4ms/step - loss: 0.1428 - val_loss: 1.6952\n",
      "Epoch 70/70\n",
      "40000/40000 [==============================] - 140s 4ms/step - loss: 0.1397 - val_loss: 1.7336\n"
     ]
    }
   ],
   "source": [
    "history = classificador.fit(x=x_train, y=to_categorical(y_train, 10), batch_size=BATCH_SIZE, epochs=NUM_EPOCHS, \n",
    "                            validation_data=(x_val, to_categorical(y_val, 10)), callbacks=[model_checkpoint])"
   ]
  },
  {
   "cell_type": "markdown",
   "metadata": {},
   "source": [
    "## Curva de aprendizado"
   ]
  },
  {
   "cell_type": "code",
   "execution_count": 27,
   "metadata": {},
   "outputs": [],
   "source": [
    "losses = np.array(history.history['loss'])\n",
    "val_losses = np.array(history.history['val_loss'])\n",
    "np.savez(\"curva_aprendizado_classificador.npz\", losses=losses, val_losses=val_losses)"
   ]
  },
  {
   "cell_type": "code",
   "execution_count": 23,
   "metadata": {},
   "outputs": [],
   "source": [
    "import matplotlib.pyplot as plt"
   ]
  },
  {
   "cell_type": "code",
   "execution_count": 24,
   "metadata": {},
   "outputs": [
    {
     "data": {
      "text/plain": [
       "[<matplotlib.lines.Line2D at 0x1343a52bf98>]"
      ]
     },
     "execution_count": 24,
     "metadata": {},
     "output_type": "execute_result"
    },
    {
     "data": {
      "image/png": "[encoded data removed]",
      "text/plain": [
       "<Figure size 432x288 with 1 Axes>"
      ]
     },
     "metadata": {
      "needs_background": "light"
     },
     "output_type": "display_data"
    }
   ],
   "source": [
    "plt.plot(range(len(history.history['loss'])), history.history['loss'], 'b')\n",
    "plt.plot(range(len(history.history['val_loss'])), history.history['val_loss'], 'g')"
   ]
  },
  {
   "cell_type": "markdown",
   "metadata": {},
   "source": [
    "# O que aconteceu? Overfitting!"
   ]
  },
  {
   "cell_type": "markdown",
   "metadata": {},
   "source": [
    "# Testando o melhor modelo"
   ]
  },
  {
   "cell_type": "code",
   "execution_count": 25,
   "metadata": {},
   "outputs": [],
   "source": [
    "from keras.models import load_model\n",
    "from sklearn.metrics import accuracy_score, f1_score, classification_report, confusion_matrix"
   ]
  },
  {
   "cell_type": "code",
   "execution_count": 26,
   "metadata": {},
   "outputs": [],
   "source": [
    "# no meu caso foi o de época 25, mas ao rodar localmente o nome do melhor modelo será outro.\n",
    "# use o que obteve a menor validation loss\n",
    "melhor_modelo = load_model(\"classificador_epoch_25.hdf5\")"
   ]
  },
  {
   "cell_type": "code",
   "execution_count": 28,
   "metadata": {},
   "outputs": [],
   "source": [
    "predicoes = melhor_modelo.predict(x_test)"
   ]
  },
  {
   "cell_type": "code",
   "execution_count": 29,
   "metadata": {},
   "outputs": [
    {
     "data": {
      "text/plain": [
       "array([3.4555880e-04, 1.0915949e-03, 1.9052565e-03, 9.4440174e-01,\n",
       "       8.5726818e-03, 2.3474267e-02, 9.6703917e-03, 7.2622090e-05,\n",
       "       1.0403846e-02, 6.2060892e-05], dtype=float32)"
      ]
     },
     "execution_count": 29,
     "metadata": {},
     "output_type": "execute_result"
    }
   ],
   "source": [
    "predicoes[0]"
   ]
  },
  {
   "cell_type": "code",
   "execution_count": 30,
   "metadata": {},
   "outputs": [
    {
     "data": {
      "text/plain": [
       "3"
      ]
     },
     "execution_count": 30,
     "metadata": {},
     "output_type": "execute_result"
    }
   ],
   "source": [
    "# classe predita\n",
    "np.argmax(predicoes[0])"
   ]
  },
  {
   "cell_type": "code",
   "execution_count": 31,
   "metadata": {},
   "outputs": [
    {
     "data": {
      "text/plain": [
       "0.94440174"
      ]
     },
     "execution_count": 31,
     "metadata": {},
     "output_type": "execute_result"
    }
   ],
   "source": [
    "# Confiança = 94,4%\n",
    "predicoes[0][3]"
   ]
  },
  {
   "cell_type": "code",
   "execution_count": 32,
   "metadata": {},
   "outputs": [
    {
     "data": {
      "text/plain": [
       "(10000, 10)"
      ]
     },
     "execution_count": 32,
     "metadata": {},
     "output_type": "execute_result"
    }
   ],
   "source": [
    "predicoes.shape"
   ]
  },
  {
   "cell_type": "code",
   "execution_count": 33,
   "metadata": {},
   "outputs": [
    {
     "data": {
      "text/plain": [
       "(10000, 1)"
      ]
     },
     "execution_count": 33,
     "metadata": {},
     "output_type": "execute_result"
    }
   ],
   "source": [
    "y_test.shape"
   ]
  },
  {
   "cell_type": "code",
   "execution_count": 34,
   "metadata": {},
   "outputs": [
    {
     "data": {
      "text/plain": [
       "(10000,)"
      ]
     },
     "execution_count": 34,
     "metadata": {},
     "output_type": "execute_result"
    }
   ],
   "source": [
    "np.argmax(predicoes, axis=1).shape"
   ]
  },
  {
   "cell_type": "code",
   "execution_count": 35,
   "metadata": {},
   "outputs": [
    {
     "name": "stdout",
     "output_type": "stream",
     "text": [
      "              precision    recall  f1-score   support\n",
      "\n",
      "           0       0.69      0.65      0.67      1000\n",
      "           1       0.75      0.75      0.75      1000\n",
      "           2       0.52      0.52      0.52      1000\n",
      "           3       0.43      0.48      0.45      1000\n",
      "           4       0.56      0.60      0.58      1000\n",
      "           5       0.53      0.56      0.54      1000\n",
      "           6       0.78      0.64      0.70      1000\n",
      "           7       0.69      0.68      0.68      1000\n",
      "           8       0.73      0.76      0.74      1000\n",
      "           9       0.72      0.69      0.70      1000\n",
      "\n",
      "   micro avg       0.63      0.63      0.63     10000\n",
      "   macro avg       0.64      0.63      0.63     10000\n",
      "weighted avg       0.64      0.63      0.63     10000\n",
      "\n"
     ]
    }
   ],
   "source": [
    "print(classification_report(y_test, np.argmax(predicoes, axis=1)))"
   ]
  },
  {
   "cell_type": "code",
   "execution_count": 36,
   "metadata": {},
   "outputs": [
    {
     "name": "stdout",
     "output_type": "stream",
     "text": [
      "0.6326\n"
     ]
    }
   ],
   "source": [
    "print(accuracy_score(y_test, np.argmax(predicoes, axis=1)))"
   ]
  },
  {
   "cell_type": "code",
   "execution_count": 37,
   "metadata": {},
   "outputs": [
    {
     "name": "stdout",
     "output_type": "stream",
     "text": [
      "0.6347981862185212\n"
     ]
    }
   ],
   "source": [
    "print(f1_score(y_test, np.argmax(predicoes, axis=1), average=\"weighted\"))"
   ]
  },
  {
   "cell_type": "code",
   "execution_count": 38,
   "metadata": {},
   "outputs": [
    {
     "name": "stdout",
     "output_type": "stream",
     "text": [
      "[[654  38  71  32  35   7   9  13 104  37]\n",
      " [ 31 750   9  18  10   7   9   9  41 116]\n",
      " [ 62   9 523  88 112  85  46  44  20  11]\n",
      " [ 21  14  82 479  79 189  41  58  17  20]\n",
      " [ 27   6  93  71 598  61  34  87  19   4]\n",
      " [ 13   9  83 207  53 560  11  49   9   6]\n",
      " [  6  10  61 106  94  36 641  18  10  18]\n",
      " [ 14  10  46  58  73  89   8 678   4  20]\n",
      " [ 81  46  15  28  11  11   6   6 758  38]\n",
      " [ 34 113  14  28  11  16  16  27  56 685]]\n"
     ]
    }
   ],
   "source": [
    "# Na matriz de confusão nota-se que as classes cachorro e gato são as mais confundidas entre si\n",
    "matriz_confusao = confusion_matrix(y_test, np.argmax(predicoes, axis=1))\n",
    "print(matriz_confusao)"
   ]
  },
  {
   "cell_type": "code",
   "execution_count": 39,
   "metadata": {},
   "outputs": [
    {
     "name": "stdout",
     "output_type": "stream",
     "text": [
      "[ 943 1005  997 1115 1076 1061  821  989 1038  955]\n"
     ]
    }
   ],
   "source": [
    "total_predito = np.sum(matriz_confusao, axis=0)\n",
    "print(total_predito)"
   ]
  },
  {
   "cell_type": "code",
   "execution_count": 41,
   "metadata": {},
   "outputs": [
    {
     "name": "stdout",
     "output_type": "stream",
     "text": [
      "[654 750 523 479 598 560 641 678 758 685]\n"
     ]
    }
   ],
   "source": [
    "acertos = [matriz_confusao[i][i] for i in range(10)]\n",
    "acertos = np.array(acertos)\n",
    "print(acertos)"
   ]
  },
  {
   "cell_type": "code",
   "execution_count": 42,
   "metadata": {},
   "outputs": [
    {
     "data": {
      "text/plain": [
       "array([False, False, False, False, False, False, False, False, False,\n",
       "       False])"
      ]
     },
     "execution_count": 42,
     "metadata": {},
     "output_type": "execute_result"
    }
   ],
   "source": [
    "acertos > total_predito"
   ]
  },
  {
   "cell_type": "code",
   "execution_count": 43,
   "metadata": {},
   "outputs": [
    {
     "name": "stdout",
     "output_type": "stream",
     "text": [
      "[289 255 474 636 478 501 180 311 280 270]\n"
     ]
    }
   ],
   "source": [
    "erros = total_predito - acertos\n",
    "print(erros)"
   ]
  },
  {
   "cell_type": "code",
   "execution_count": 45,
   "metadata": {},
   "outputs": [
    {
     "data": {
      "text/plain": [
       "[<matplotlib.lines.Line2D at 0x1343ea52320>]"
      ]
     },
     "execution_count": 45,
     "metadata": {},
     "output_type": "execute_result"
    },
    {
     "data": {
      "image/png": "[encoded data removed]",
      "text/plain": [
       "<Figure size 432x288 with 1 Axes>"
      ]
     },
     "metadata": {
      "needs_background": "light"
     },
     "output_type": "display_data"
    }
   ],
   "source": [
    "acuracia = acertos / 1000\n",
    "plt.plot(range(10), sorted(acuracia))"
   ]
  },
  {
   "cell_type": "code",
   "execution_count": null,
   "metadata": {},
   "outputs": [],
   "source": []
  }
 ],
 "metadata": {
  "kernelspec": {
   "display_name": "Python 3",
   "language": "python",
   "name": "python3"
  },
  "language_info": {
   "codemirror_mode": {
    "name": "ipython",
    "version": 3
   },
   "file_extension": ".py",
   "mimetype": "text/x-python",
   "name": "python",
   "nbconvert_exporter": "python",
   "pygments_lexer": "ipython3",
   "version": "3.7.3"
  }
 },
 "nbformat": 4,
 "nbformat_minor": 2
}
